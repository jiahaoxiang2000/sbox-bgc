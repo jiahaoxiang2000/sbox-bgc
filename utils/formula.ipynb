{
 "cells": [
  {
   "cell_type": "code",
   "execution_count": 1,
   "metadata": {},
   "outputs": [
    {
     "name": "stdout",
     "output_type": "stream",
     "text": [
      "{'q29': '0550', 'q28': '3330', 'q27': '55FF', 'q26': '0F50', 'q25': '5555', 'q24': '005F', 'q23': '000F', 'q22': '5F5F', 'y3': '3770', 'q21': '000F', 'y2': '5F05', 'q20': '000F', 'y1': 'AB13', 'q11': '55FF', 'x2': '3333', 't7': '005F', 'q10': '333F', 'x1': '0F0F', 't6': '3330', 'q13': '000F', 't9': '0F50', 't1': '0033', 'q12': '333F', 'x3': '5555', 't8': '0F5F', 't0': '000F', 'y0': 'EEC0', 'q16': '0F0F', 't4': '5F5F', 'q15': '00FF', 't3': '55FF', 'q0': '00FF', 'gt18': '0006', 'q14': '5F5F', 't2': '333F', 'x0': '00FF', 't5': '113F', 't19': 'AB13', 'q30': '0F5F', 'q17': '005F', 'q18': '005F', 'q19': '0F0F', 'q1': '0F0F', 'gt19': '0007', 't10': 'FFF0', 'gt8': '0007', 'q2': '00FF', 't11': '5F50', 'gt9': '0006', 'q3': '3333', 't12': '0055', 'q4': '3333', 't13': '0550', 'q5': '000F', 't14': '3770', 'q6': '00FF', 't15': '0313', 'q7': '5555', 't16': 'EEC0', 'q8': '5555', 't17': 'AA00', 'q9': '0F0F', 't18': '5F05', 'q31': '3333', 'q32': '113F', 'q33': '5F5F', 'q34': '55FF', 'q35': 'FFF0', 'q36': '5F50', 'q37': '0055', 'q38': '0313', 'q39': 'AA00', 'gt0': '0001', 'gt1': '0001', 'gt2': '0007', 'gt3': '0007', 'gt4': '0007', 'gt5': '0001', 'gt6': '0006', 'gt7': '0001', 'gt10': '000C', 'gt11': '0006', 'gt12': '0001', 'gt13': '0001', 'gt14': '0007', 'gt15': '0001', 'gt16': '000C', 'gt17': '000C'}\n",
      "88\n"
     ]
    }
   ],
   "source": [
    "# extract the key and value from the answer.txt file\n",
    "import re\n",
    "\n",
    "text = \"\"\n",
    "with open(\"answer.txt\", \"r\") as file:\n",
    "    text = file.read()\n",
    "\n",
    "matches = re.findall(r\"\\|(.*?)\\|.*(#x[0-9A-Fa-f]+)\", text)\n",
    "result_dict = {key: value[2:] for key, value in matches}\n",
    "\n",
    "print(result_dict)\n",
    "print(len(result_dict))"
   ]
  },
  {
   "cell_type": "code",
   "execution_count": 3,
   "metadata": {},
   "outputs": [
    {
     "name": "stdout",
     "output_type": "stream",
     "text": [
      "{'q': ['00FF', '0F0F', '00FF', '3333', '3333', '000F', '00FF', '5555', '5555', '0F0F', '333F', '55FF', '333F', '000F', '5F5F', '00FF', '0F0F', '005F', '005F', '0F0F', '000F', '000F', '5F5F', '000F', '005F', '5555', '0F50', '55FF', '3330', '0550', '0F5F', '3333', '113F', '5F5F', '55FF', 'FFF0', '5F50', '0055', '0313', 'AA00'], 'y': ['EEC0', 'AB13', '5F05', '3770'], 'x': ['00FF', '0F0F', '3333', '5555'], 't': ['000F', '0033', '333F', '55FF', '5F5F', '113F', '3330', '005F', '0F5F', '0F50', 'FFF0', '5F50', '0055', '0550', '3770', '0313', 'EEC0', 'AA00', '5F05', 'AB13'], 'g': ['0001', '0001', '0007', '0007', '0007', '0001', '0006', '0001', '0007', '0006', '000C', '0006', '0001', '0001', '0007', '0001', '000C', '000C', '0006', '0007']}\n"
     ]
    }
   ],
   "source": [
    "arrays = {}\n",
    "for key, value in result_dict.items():\n",
    "    # Get the first character of the key\n",
    "    first_char = key[0]\n",
    "\n",
    "    # Get the last number in the key using regex\n",
    "    match = re.search(r\"\\d+$\", key)\n",
    "    if match:\n",
    "        last_number = int(match.group())\n",
    "\n",
    "        # If this character doesn't have an array yet, create it\n",
    "        if first_char not in arrays:\n",
    "            arrays[first_char] = {}\n",
    "\n",
    "        # Add the value to the appropriate array at the position specified by the last number\n",
    "        arrays[first_char][last_number] = value\n",
    "\n",
    "# Sort each array by its keys (the last numbers in the original keys)\n",
    "for key in arrays:\n",
    "    arrays[key] = [item[1] for item in sorted(arrays[key].items())]\n",
    "\n",
    "print(arrays)"
   ]
  },
  {
   "cell_type": "code",
   "execution_count": 4,
   "metadata": {},
   "outputs": [
    {
     "name": "stdout",
     "output_type": "stream",
     "text": [
      "['Y0 = NOT0 (AND (OR (X2, AND (X0, X1) ) , OR (X0, X3) ) , OR (X3, X1) ) ', 'Y1 = OR (AND (OR (X1, AND (OR (X3, X1) , X0) ) , X2) , NOT0 (OR (X0, X3) , NOT0 (AND (X0, X1) , AND (X0, X1) ) ) ) ', 'Y2 = XOR (XOR (OR (X3, X1) , AND (X0, X1) ) , AND (AND (OR (X3, X1) , X0) , X3) ) ', 'Y3 = OR (XOR (OR (X2, AND (X0, X1) ) , AND (X0, X1) ) , AND (XOR (AND (OR (X3, X1) , X0) , X1) , OR (X0, X3) ) ) ']\n"
     ]
    }
   ],
   "source": [
    "X = list(arrays[\"x\"])\n",
    "Y = list(arrays[\"y\"])\n",
    "B = list(arrays[\"g\"])\n",
    "T = list(arrays[\"t\"])\n",
    "Q = list(arrays[\"q\"])\n",
    "\n",
    "BT = {\n",
    "    \"0006\": \"XOR\",\n",
    "    \"0001\": \"AND\",\n",
    "    \"0007\": \"OR\",\n",
    "    \"000C\": \"NOT0\",\n",
    "}\n",
    "\n",
    "\n",
    "XS = [f\"X{i}\" for i in range(0, len(X))]\n",
    "BS = [BT[b] for b in B]\n",
    "\n",
    "TS = []\n",
    "for i in range(0, len(T)):\n",
    "    q1 = Q[i * 2]\n",
    "    q2 = Q[i * 2 + 1]\n",
    "    q1_s = \"\"\n",
    "    q2_s = \"\"\n",
    "    if q1 in X:\n",
    "        q1_s = XS[X.index(q1)]\n",
    "    if q2 in X:\n",
    "        q2_s = XS[X.index(q2)]\n",
    "    if q1 in T:\n",
    "        q1_s = TS[T.index(q1)]\n",
    "    if q2 in T:\n",
    "        q2_s = TS[T.index(q2)]\n",
    "    TS.append(f\"{BS[i]} ({q1_s}, {q2_s}) \")\n",
    "\n",
    "YS = []\n",
    "for i in range(0, len(Y)):\n",
    "    y = Y[i]\n",
    "    if y in T:\n",
    "        YS.append(f\"Y{i} = {TS[T.index(y)]}\")\n",
    "\n",
    "print(YS)"
   ]
  },
  {
   "cell_type": "code",
   "execution_count": 6,
   "metadata": {},
   "outputs": [
    {
     "name": "stdout",
     "output_type": "stream",
     "text": [
      "T_{0} =  X_{0} \\land X_{1} \n",
      "T_{1} =  X_{0} \\land X_{2} \n",
      "T_{2} =  X_{2} \\lor T_{0} \n",
      "T_{3} =  X_{0} \\lor X_{3} \n",
      "T_{4} =  X_{3} \\lor X_{1} \n",
      "T_{5} =  T_{2} \\land T_{3} \n",
      "T_{6} =  T_{2} \\oplus T_{0} \n",
      "T_{7} =  T_{4} \\land X_{0} \n",
      "T_{8} =  X_{1} \\lor T_{7} \n",
      "T_{9} =  T_{7} \\oplus X_{1} \n",
      "T_{10} = \\sim T_{0} \n",
      "T_{11} =  T_{4} \\oplus T_{0} \n",
      "T_{12} =  T_{7} \\land X_{3} \n",
      "T_{13} =  T_{9} \\land T_{3} \n",
      "T_{14} =  T_{6} \\lor T_{13} \n",
      "T_{15} =  T_{8} \\land X_{2} \n",
      "T_{16} = \\sim T_{5} \n",
      "T_{17} = \\sim T_{3} \n",
      "T_{18} =  T_{11} \\oplus T_{12} \n",
      "T_{19} =  T_{15} \\lor T_{17} \n",
      "Y_{0} = T_{16}\n",
      "Y_{1} = T_{19}\n",
      "Y_{2} = T_{18}\n",
      "Y_{3} = T_{14}\n"
     ]
    }
   ],
   "source": [
    "X = list(arrays[\"x\"])\n",
    "Y = list(arrays[\"y\"])\n",
    "B = list(arrays[\"g\"])\n",
    "T = list(arrays[\"t\"])\n",
    "Q = list(arrays[\"q\"])\n",
    "\n",
    "BT = {\n",
    "    \"0006\": \"XOR\",\n",
    "    \"0001\": \"AND\",\n",
    "    \"0007\": \"OR\",\n",
    "    \"000C\": \"NOT0\",\n",
    "}\n",
    "\n",
    "XS = [f\"X{i}\" for i in range(0, len(X))]\n",
    "BS = [BT[b] for b in B]\n",
    "\n",
    "TS = []\n",
    "for i in range(0, len(T)):\n",
    "    q1 = Q[i * 2]\n",
    "    q2 = Q[i * 2 + 1]\n",
    "    q1_s = \"\"\n",
    "    q2_s = \"\"\n",
    "    if q1 in X:\n",
    "        q1_s = f\"X_{{{X.index(q1)}}}\"\n",
    "    if q2 in X:\n",
    "        q2_s = f\"X_{{{X.index(q2)}}}\"\n",
    "    if q1 in T:\n",
    "        q1_s = f\"T_{{{T.index(q1)}}}\"\n",
    "    if q2 in T:\n",
    "        q2_s = f\"T_{{{T.index(q2)}}}\"\n",
    "\n",
    "    if BS[i] == \"NOT0\":\n",
    "        TS.append(f\"T_{{{i}}} = \\\\sim {q1_s} \")  # why tow backslashes?\n",
    "    elif BS[i] == \"NOT1\":\n",
    "        TS.append(f\"T_{{{i}}} = \\\\sim {q2_s} \")\n",
    "    elif BS[i] == \"AND\":\n",
    "        TS.append(f\"T_{{{i}}} =  {q1_s} \\\\land {q2_s} \")\n",
    "    elif BS[i] == \"OR\":\n",
    "        TS.append(f\"T_{{{i}}} =  {q1_s} \\\\lor {q2_s} \")\n",
    "    elif BS[i] == \"XOR\":\n",
    "        TS.append(f\"T_{{{i}}} =  {q1_s} \\\\oplus {q2_s} \")\n",
    "\n",
    "YS = []\n",
    "for i in range(0, len(Y)):\n",
    "    y = Y[i]\n",
    "    if y in T:\n",
    "        YS.append(f\"Y_{{{i}}} = T_{{{T.index(y)}}}\")\n",
    "\n",
    "latex = \"\\n\".join(TS + YS)\n",
    "print(latex)"
   ]
  }
 ],
 "metadata": {
  "kernelspec": {
   "display_name": "stp",
   "language": "python",
   "name": "python3"
  },
  "language_info": {
   "codemirror_mode": {
    "name": "ipython",
    "version": 3
   },
   "file_extension": ".py",
   "mimetype": "text/x-python",
   "name": "python",
   "nbconvert_exporter": "python",
   "pygments_lexer": "ipython3",
   "version": "3.11.9"
  }
 },
 "nbformat": 4,
 "nbformat_minor": 2
}
