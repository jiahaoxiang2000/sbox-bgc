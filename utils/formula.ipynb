{
 "cells": [
  {
   "cell_type": "code",
   "execution_count": 8,
   "metadata": {},
   "outputs": [
    {
     "name": "stdout",
     "output_type": "stream",
     "text": [
      "{'q29': '00FF', 'q28': '60CA', 'q27': '0154', 'q26': '33FF', 'q25': '5FF5', 'q24': '3F3F', 'q23': '0F5F', 'q22': 'F0F0', 'y3': '1735', 'q21': '3F3F', 'y2': '6077', 'q20': '7777', 'y1': '32AB', 'q11': '03FC', 'x2': '3333', 't7': '0F5F', 'q10': '5555', 'x1': '0F0F', 't6': 'F0F0', 'q13': '03FC', 't9': '7777', 't1': '0FF0', 'q12': '0F0F', 'x3': '5555', 't8': '5FF5', 't0': '0303', 'y0': 'F4A4', 'q16': '0FF0', 't4': '3F3F', 'q15': '0F0F', 't3': '03FC', 'q0': '3333', 'gt18': '0007', 'q14': '0154', 't2': '33FF', 'x0': '00FF', 't5': '0154', 't19': 'F4A4', 'q30': '60FF', 'q17': '5555', 'q18': '5555', 'q19': '3333', 'q1': '0F0F', 'gt19': '0001', 't10': '3737', 'gt8': '0007', 'q2': '00FF', 't11': 'FFAF', 'gt9': '0007', 'q3': '0F0F', 't12': '60CA', 'q4': '3333', 't13': '32AB', 'q5': '00FF', 't14': '60FF', 'q6': '00FF', 't15': '6077', 'q7': '0303', 't16': 'FCAC', 'q8': '0F0F', 't17': '1735', 'q9': '3333', 't18': 'F7F5', 'q31': '7777', 'q32': 'FFAF', 'q33': '0303', 'q34': '3737', 'q35': '5FF5', 'q36': 'F0F0', 'q37': '1735', 'q38': 'FCAC', 'q39': 'F7F5', 'gt0': '0001', 'gt1': '0006', 'gt2': '0007', 'gt3': '0006', 'gt4': '0007', 'gt5': '0001', 'gt6': '000C', 'gt7': '0007', 'gt10': '0001', 'gt11': '0006', 'gt12': '0006', 'gt13': '0006', 'gt14': '0007', 'gt15': '0001', 'gt16': '0006', 'gt17': '0001'}\n",
      "88\n"
     ]
    }
   ],
   "source": [
    "# extract the key and value from the answer.txt file\n",
    "import re\n",
    "\n",
    "text = \"\"\n",
    "with open(\"answer.txt\", \"r\") as file:\n",
    "    text = file.read()\n",
    "\n",
    "matches = re.findall(r\"\\|(.*?)\\|.*(#x[0-9A-Fa-f]+)\", text)\n",
    "result_dict = {key: value[2:] for key, value in matches}\n",
    "\n",
    "print(result_dict)\n",
    "print(len(result_dict))"
   ]
  },
  {
   "cell_type": "code",
   "execution_count": 9,
   "metadata": {},
   "outputs": [
    {
     "name": "stdout",
     "output_type": "stream",
     "text": [
      "{'q': ['3333', '0F0F', '00FF', '0F0F', '3333', '00FF', '00FF', '0303', '0F0F', '3333', '5555', '03FC', '0F0F', '03FC', '0154', '0F0F', '0FF0', '5555', '5555', '3333', '7777', '3F3F', 'F0F0', '0F5F', '3F3F', '5FF5', '33FF', '0154', '60CA', '00FF', '60FF', '7777', 'FFAF', '0303', '3737', '5FF5', 'F0F0', '1735', 'FCAC', 'F7F5'], 'y': ['F4A4', '32AB', '6077', '1735'], 'x': ['00FF', '0F0F', '3333', '5555'], 't': ['0303', '0FF0', '33FF', '03FC', '3F3F', '0154', 'F0F0', '0F5F', '5FF5', '7777', '3737', 'FFAF', '60CA', '32AB', '60FF', '6077', 'FCAC', '1735', 'F7F5', 'F4A4'], 'g': ['0001', '0006', '0007', '0006', '0007', '0001', '000C', '0007', '0007', '0007', '0001', '0006', '0006', '0006', '0007', '0001', '0006', '0001', '0007', '0001']}\n"
     ]
    }
   ],
   "source": [
    "arrays = {}\n",
    "for key, value in result_dict.items():\n",
    "    # Get the first character of the key\n",
    "    first_char = key[0]\n",
    "\n",
    "    # Get the last number in the key using regex\n",
    "    match = re.search(r\"\\d+$\", key)\n",
    "    if match:\n",
    "        last_number = int(match.group())\n",
    "\n",
    "        # If this character doesn't have an array yet, create it\n",
    "        if first_char not in arrays:\n",
    "            arrays[first_char] = {}\n",
    "\n",
    "        # Add the value to the appropriate array at the position specified by the last number\n",
    "        arrays[first_char][last_number] = value\n",
    "\n",
    "# Sort each array by its keys (the last numbers in the original keys)\n",
    "for key in arrays:\n",
    "    arrays[key] = [item[1] for item in sorted(arrays[key].items())]\n",
    "\n",
    "print(arrays)"
   ]
  },
  {
   "cell_type": "code",
   "execution_count": 10,
   "metadata": {},
   "outputs": [
    {
     "name": "stdout",
     "output_type": "stream",
     "text": [
      "['Y0 = AND (XOR (XOR (NOT0 (X1, XOR (X0, AND (X2, X1) ) ) , OR (AND (X3, XOR (X0, AND (X2, X1) ) ) , X1) ) , AND (X2, X1) ) , OR (NOT0 (X1, XOR (X0, AND (X2, X1) ) ) , AND (AND (OR (X3, X2) , OR (X1, X2) ) , OR (XOR (X0, X1) , X3) ) ) ) ', 'Y1 = XOR (OR (X2, X0) , AND (X3, XOR (X0, AND (X2, X1) ) ) ) ', 'Y2 = AND (OR (XOR (OR (X1, X2) , OR (XOR (X0, X1) , X3) ) , X0) , OR (X3, X2) ) ', 'Y3 = AND (AND (OR (X3, X2) , OR (X1, X2) ) , OR (XOR (X0, X1) , X3) ) ']\n"
     ]
    }
   ],
   "source": [
    "X = list(arrays[\"x\"])\n",
    "Y = list(arrays[\"y\"])\n",
    "B = list(arrays[\"g\"])\n",
    "T = list(arrays[\"t\"])\n",
    "Q = list(arrays[\"q\"])\n",
    "\n",
    "BT = {\n",
    "    \"0006\": \"XOR\",\n",
    "    \"0001\": \"AND\",\n",
    "    \"0007\": \"OR\",\n",
    "    \"000C\": \"NOT0\",\n",
    "}\n",
    "\n",
    "\n",
    "XS = [f\"X{i}\" for i in range(0, len(X))]\n",
    "BS = [BT[b] for b in B]\n",
    "\n",
    "TS = []\n",
    "for i in range(0, len(T)):\n",
    "    q1 = Q[i * 2]\n",
    "    q2 = Q[i * 2 + 1]\n",
    "    q1_s = \"\"\n",
    "    q2_s = \"\"\n",
    "    if q1 in X:\n",
    "        q1_s = XS[X.index(q1)]\n",
    "    if q2 in X:\n",
    "        q2_s = XS[X.index(q2)]\n",
    "    if q1 in T:\n",
    "        q1_s = TS[T.index(q1)]\n",
    "    if q2 in T:\n",
    "        q2_s = TS[T.index(q2)]\n",
    "    TS.append(f\"{BS[i]} ({q1_s}, {q2_s}) \")\n",
    "\n",
    "YS = []\n",
    "for i in range(0, len(Y)):\n",
    "    y = Y[i]\n",
    "    if y in T:\n",
    "        YS.append(f\"Y{i} = {TS[T.index(y)]}\")\n",
    "\n",
    "print(YS)"
   ]
  },
  {
   "cell_type": "code",
   "execution_count": 11,
   "metadata": {},
   "outputs": [
    {
     "name": "stdout",
     "output_type": "stream",
     "text": [
      "T_{0} =  X_{2} \\land X_{1} \n",
      "T_{1} =  X_{0} \\oplus X_{1} \n",
      "T_{2} =  X_{2} \\lor X_{0} \n",
      "T_{3} =  X_{0} \\oplus T_{0} \n",
      "T_{4} =  X_{1} \\lor X_{2} \n",
      "T_{5} =  X_{3} \\land T_{3} \n",
      "T_{6} = \\sim X_{1} \n",
      "T_{7} =  T_{5} \\lor X_{1} \n",
      "T_{8} =  T_{1} \\lor X_{3} \n",
      "T_{9} =  X_{3} \\lor X_{2} \n",
      "T_{10} =  T_{9} \\land T_{4} \n",
      "T_{11} =  T_{6} \\oplus T_{7} \n",
      "T_{12} =  T_{4} \\oplus T_{8} \n",
      "T_{13} =  T_{2} \\oplus T_{5} \n",
      "T_{14} =  T_{12} \\lor X_{0} \n",
      "T_{15} =  T_{14} \\land T_{9} \n",
      "T_{16} =  T_{11} \\oplus T_{0} \n",
      "T_{17} =  T_{10} \\land T_{8} \n",
      "T_{18} =  T_{6} \\lor T_{17} \n",
      "T_{19} =  T_{16} \\land T_{18} \n",
      "Y_{0} = T_{19}\n",
      "Y_{1} = T_{13}\n",
      "Y_{2} = T_{15}\n",
      "Y_{3} = T_{17}\n"
     ]
    }
   ],
   "source": [
    "X = list(arrays[\"x\"])\n",
    "Y = list(arrays[\"y\"])\n",
    "B = list(arrays[\"g\"])\n",
    "T = list(arrays[\"t\"])\n",
    "Q = list(arrays[\"q\"])\n",
    "\n",
    "BT = {\n",
    "    \"0006\": \"XOR\",\n",
    "    \"0001\": \"AND\",\n",
    "    \"0007\": \"OR\",\n",
    "    \"000C\": \"NOT0\",\n",
    "}\n",
    "\n",
    "XS = [f\"X{i}\" for i in range(0, len(X))]\n",
    "BS = [BT[b] for b in B]\n",
    "\n",
    "TS = []\n",
    "for i in range(0, len(T)):\n",
    "    q1 = Q[i * 2]\n",
    "    q2 = Q[i * 2 + 1]\n",
    "    q1_s = \"\"\n",
    "    q2_s = \"\"\n",
    "    if q1 in X:\n",
    "        q1_s = f\"X_{{{X.index(q1)}}}\"\n",
    "    if q2 in X:\n",
    "        q2_s = f\"X_{{{X.index(q2)}}}\"\n",
    "    if q1 in T:\n",
    "        q1_s = f\"T_{{{T.index(q1)}}}\"\n",
    "    if q2 in T:\n",
    "        q2_s = f\"T_{{{T.index(q2)}}}\"\n",
    "\n",
    "    if BS[i] == \"NOT0\":\n",
    "        TS.append(f\"T_{{{i}}} = \\\\sim {q1_s} \")  # why tow backslashes?\n",
    "    elif BS[i] == \"NOT1\":\n",
    "        TS.append(f\"T_{{{i}}} = \\\\sim {q2_s} \")\n",
    "    elif BS[i] == \"AND\":\n",
    "        TS.append(f\"T_{{{i}}} =  {q1_s} \\\\land {q2_s} \")\n",
    "    elif BS[i] == \"OR\":\n",
    "        TS.append(f\"T_{{{i}}} =  {q1_s} \\\\lor {q2_s} \")\n",
    "    elif BS[i] == \"XOR\":\n",
    "        TS.append(f\"T_{{{i}}} =  {q1_s} \\\\oplus {q2_s} \")\n",
    "\n",
    "YS = []\n",
    "for i in range(0, len(Y)):\n",
    "    y = Y[i]\n",
    "    if y in T:\n",
    "        YS.append(f\"Y_{{{i}}} = T_{{{T.index(y)}}}\")\n",
    "\n",
    "latex = \"\\n\".join(TS + YS)\n",
    "print(latex)"
   ]
  }
 ],
 "metadata": {
  "kernelspec": {
   "display_name": "stp",
   "language": "python",
   "name": "python3"
  },
  "language_info": {
   "codemirror_mode": {
    "name": "ipython",
    "version": 3
   },
   "file_extension": ".py",
   "mimetype": "text/x-python",
   "name": "python",
   "nbconvert_exporter": "python",
   "pygments_lexer": "ipython3",
   "version": "3.11.9"
  }
 },
 "nbformat": 4,
 "nbformat_minor": 2
}
