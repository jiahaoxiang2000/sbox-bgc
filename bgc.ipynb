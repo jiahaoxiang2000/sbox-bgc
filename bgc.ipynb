{
 "cells": [
  {
   "cell_type": "code",
   "execution_count": 1,
   "metadata": {},
   "outputs": [],
   "source": [
    "from bitwuzla import *"
   ]
  },
  {
   "cell_type": "code",
   "execution_count": 2,
   "metadata": {},
   "outputs": [],
   "source": [
    "# First, create a term manager instance.\n",
    "tm = TermManager()\n",
    "# Create a Bitwuzla options instance.\n",
    "options = Options()\n",
    "# Then, enable model generation.\n",
    "options.set(Option.PRODUCE_MODELS, True)\n",
    "# Create a Bitwuzla instance. \n",
    "bitwuzla = Bitwuzla(tm, options)"
   ]
  },
  {
   "cell_type": "code",
   "execution_count": 3,
   "metadata": {},
   "outputs": [],
   "source": [
    "bits = 2\n",
    "bit_with = 2**bits\n",
    "gate_number = 2\n",
    "gts = [0b0110, 0b001]\n",
    "# this is the sbox, it is temp used, after need generate by the true sbox\n",
    "xs = [0b0011, 0b0101]\n",
    "ys = [0b0100, 0b0110]\n",
    "\n",
    "sortbv = tm.mk_bv_sort(bit_with)"
   ]
  },
  {
   "cell_type": "code",
   "execution_count": 4,
   "metadata": {},
   "outputs": [],
   "source": [
    "# create the input and output variables\n",
    "xs_v = [tm.mk_const(sortbv, \"x{}\".format(i)) for i in range(bits)]\n",
    "ys_v = [tm.mk_const(sortbv, \"y{}\".format(i)) for i in range(bits)]\n",
    "\n",
    "# create the constraints\n",
    "for i in range(bits):\n",
    "    bitwuzla.assert_formula(\n",
    "        tm.mk_term(Kind.EQUAL, [xs_v[i], tm.mk_bv_value(sortbv, xs[i])])\n",
    "    )\n",
    "for i in range(bits):\n",
    "    bitwuzla.assert_formula(\n",
    "        tm.mk_term(Kind.EQUAL, [ys_v[i], tm.mk_bv_value(sortbv, ys[i])])\n",
    "    )"
   ]
  },
  {
   "cell_type": "code",
   "execution_count": 5,
   "metadata": {},
   "outputs": [],
   "source": [
    "# create the gate input and output\n",
    "ts_v = [tm.mk_const(sortbv, \"t{}\".format(i)) for i in range(gate_number)]\n",
    "qs_v = [tm.mk_const(sortbv, \"q{}\".format(i)) for i in range(gate_number * 2)]\n",
    "# create the constraints for the input\n",
    "for i in range(gate_number):\n",
    "    input0 = [tm.mk_term(Kind.EQUAL, [qs_v[2*i], xs_v[j]]) for j in range(bits)]\n",
    "    input1 = [tm.mk_term(Kind.EQUAL, [qs_v[2*i + 1], xs_v[j]]) for j in range(bits)]\n",
    "    inter0 = [tm.mk_term(Kind.EQUAL, [qs_v[2*i], ts_v[j]]) for j in range(i)]\n",
    "    inter1 = [tm.mk_term(Kind.EQUAL, [qs_v[2*i + 1], ts_v[j]]) for j in range(i)]\n",
    "    bitwuzla.assert_formula(tm.mk_term(Kind.OR, input0 + inter0))\n",
    "    bitwuzla.assert_formula(tm.mk_term(Kind.OR, input1 + inter1))"
   ]
  },
  {
   "cell_type": "code",
   "execution_count": 6,
   "metadata": {},
   "outputs": [],
   "source": [
    "# need encoding for gate type\n",
    "gts_v = [tm.mk_const(sortbv, \"gt{}\".format(i)) for i in range(gate_number)]\n",
    "\n",
    "# create the constraints for the gate type\n",
    "for i in range(gate_number):\n",
    "    types = [tm.mk_term(Kind.EQUAL, [gts_v[i], tm.mk_bv_value(sortbv, gts[j])]) for j in range(len(gts))]\n",
    "    bitwuzla.assert_formula(\n",
    "        tm.mk_term(Kind.OR, types)\n",
    "    )"
   ]
  },
  {
   "cell_type": "code",
   "execution_count": 7,
   "metadata": {},
   "outputs": [],
   "source": [
    "# create the constraints for the output, it is the hard part.\n",
    "one_sort = tm.mk_bv_sort(1)\n",
    "one = tm.mk_bv_value(one_sort, 1)\n",
    "zores = tm.mk_bv_value(sortbv, 0)\n",
    "ones = tm.mk_bv_value(sortbv, 2**bit_with - 1)\n",
    "for i in range(gate_number):\n",
    "    # create the constraints for the output\n",
    "    gt0 = tm.mk_term(Kind.BV_EXTRACT, [gts_v[i]], [0, 0])\n",
    "    gt1 = tm.mk_term(Kind.BV_EXTRACT, [gts_v[i]], [1, 1])\n",
    "    gt2 = tm.mk_term(Kind.BV_EXTRACT, [gts_v[i]], [2, 2])\n",
    "    gt3 = tm.mk_term(Kind.BV_EXTRACT, [gts_v[i]], [3, 3])\n",
    "    gt0_ul = tm.mk_term(\n",
    "        Kind.ITE,\n",
    "        [\n",
    "            tm.mk_term(Kind.BV_ULT, [gt0, one]),\n",
    "            zores,\n",
    "            tm.mk_term(Kind.BV_AND, [qs_v[2 * i], qs_v[2 * i + 1]]),\n",
    "        ],\n",
    "    )\n",
    "    gt1_ul = tm.mk_term(\n",
    "        Kind.ITE,\n",
    "        [\n",
    "            tm.mk_term(Kind.BV_ULT, [gt1, one]),\n",
    "            zores,\n",
    "            qs_v[2 * i + 1],\n",
    "        ],\n",
    "    )\n",
    "    gt2_ul = tm.mk_term(\n",
    "        Kind.ITE,\n",
    "        [\n",
    "            tm.mk_term(Kind.BV_ULT, [gt2, one]),\n",
    "            zores,\n",
    "            qs_v[2 * i],\n",
    "        ],\n",
    "    )\n",
    "    gt3_ul = tm.mk_term(\n",
    "        Kind.ITE,\n",
    "        [\n",
    "            tm.mk_term(Kind.BV_ULT, [gt3, one]),\n",
    "            zores,\n",
    "            ones,\n",
    "        ],\n",
    "    )\n",
    "    bitwuzla.assert_formula(\n",
    "        tm.mk_term(\n",
    "            Kind.EQUAL,\n",
    "            [\n",
    "                ts_v[i],\n",
    "                tm.mk_term(\n",
    "                    Kind.BV_XOR,\n",
    "                    [\n",
    "                        gt0_ul,\n",
    "                        tm.mk_term(\n",
    "                            Kind.BV_XOR,\n",
    "                            [gt1_ul, tm.mk_term(Kind.BV_XOR, [gt2_ul, gt3_ul])],\n",
    "                        ),\n",
    "                    ],\n",
    "                ),\n",
    "            ],\n",
    "        )\n",
    "    )"
   ]
  },
  {
   "cell_type": "code",
   "execution_count": 8,
   "metadata": {},
   "outputs": [],
   "source": [
    "# create the constraints for the sbox output link the gate output\n",
    "for i in range(bits):\n",
    "    ts_temp = [tm.mk_term(Kind.EQUAL, [ys_v[i], ts_v[j]]) for j in range(gate_number)]\n",
    "    bitwuzla.assert_formula(tm.mk_term(Kind.OR, ts_temp))"
   ]
  },
  {
   "cell_type": "code",
   "execution_count": 9,
   "metadata": {},
   "outputs": [
    {
     "name": "stdout",
     "output_type": "stream",
     "text": [
      "Assertions:\n",
      "{\n",
      " (= x0 #b0011)\n",
      " (= x1 #b0101)\n",
      " (= y0 #b0100)\n",
      " (= y1 #b0110)\n",
      " (or (= q0 x0) (= q0 x1))\n",
      " (or (= q1 x0) (= q1 x1))\n",
      " (or (or (= q2 x0) (= q2 x1)) (= q2 t0))\n",
      " (or (or (= q3 x0) (= q3 x1)) (= q3 t0))\n",
      " (or (= gt0 #b0110) (= gt0 #b0001))\n",
      " (or (= gt1 #b0110) (= gt1 #b0001))\n",
      " (= t0 (bvxor (ite (bvult ((_ extract 0 0) gt0) #b1) #b0000 (bvand q0 q1)) (bvxor (ite (bvult ((_ extract 1 1) gt0) #b1) #b0000 q1) (bvxor (ite (bvult ((_ extract 2 2) gt0) #b1) #b0000 q0) (ite (bvult ((_ extract 3 3) gt0) #b1) #b0000 #b1111)))))\n",
      " (= t1 (bvxor (ite (bvult ((_ extract 0 0) gt1) #b1) #b0000 (bvand q2 q3)) (bvxor (ite (bvult ((_ extract 1 1) gt1) #b1) #b0000 q3) (bvxor (ite (bvult ((_ extract 2 2) gt1) #b1) #b0000 q2) (ite (bvult ((_ extract 3 3) gt1) #b1) #b0000 #b1111)))))\n",
      " (or (= y0 t0) (= y0 t1))\n",
      " (or (= y1 t0) (= y1 t1))\n",
      "}\n"
     ]
    }
   ],
   "source": [
    "assertions = bitwuzla.get_assertions()\n",
    "print('Assertions:')\n",
    "print('{')\n",
    "for a in assertions:\n",
    "    print(f' {a}')\n",
    "print('}')"
   ]
  },
  {
   "cell_type": "code",
   "execution_count": 10,
   "metadata": {},
   "outputs": [],
   "source": [
    "result = bitwuzla.check_sat()"
   ]
  },
  {
   "cell_type": "code",
   "execution_count": 16,
   "metadata": {},
   "outputs": [
    {
     "name": "stdout",
     "output_type": "stream",
     "text": [
      "SAT\n",
      "x0 = #b0011\n",
      "x1 = #b0101\n",
      "q0 = #b0101\n",
      "q1 = #b0011\n",
      "q2 = #b0110\n",
      "q3 = #b0101\n",
      "t0 = #b0110\n",
      "t1 = #b0100\n",
      "gt0 = #b0110\n",
      "gt1 = #b0001\n",
      "y0 = #b0100\n",
      "y1 = #b0110\n"
     ]
    }
   ],
   "source": [
    "if result == Result.SAT:\n",
    "    print('SAT')\n",
    "    for x in xs_v:\n",
    "        print(f'{x} = {bitwuzla.get_value(x)}')\n",
    "    for q in qs_v:\n",
    "        print(f'{q} = {bitwuzla.get_value(q)}')     \n",
    "    for t in ts_v:\n",
    "        print(f'{t} = {bitwuzla.get_value(t)}')\n",
    "    for gt in gts_v:\n",
    "        print(f'{gt} = {bitwuzla.get_value(gt)}')\n",
    "    for y in ys_v:\n",
    "        print(f'{y} = {bitwuzla.get_value(y)}')\n",
    "    "
   ]
  }
 ],
 "metadata": {
  "kernelspec": {
   "display_name": "stp",
   "language": "python",
   "name": "python3"
  },
  "language_info": {
   "codemirror_mode": {
    "name": "ipython",
    "version": 3
   },
   "file_extension": ".py",
   "mimetype": "text/x-python",
   "name": "python",
   "nbconvert_exporter": "python",
   "pygments_lexer": "ipython3",
   "version": "3.11.9"
  }
 },
 "nbformat": 4,
 "nbformat_minor": 2
}
