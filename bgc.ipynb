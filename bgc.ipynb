{
 "cells": [
  {
   "cell_type": "code",
   "execution_count": 1,
   "metadata": {},
   "outputs": [],
   "source": [
    "from bitwuzla import *"
   ]
  },
  {
   "cell_type": "code",
   "execution_count": 2,
   "metadata": {},
   "outputs": [],
   "source": [
    "# First, create a term manager instance.\n",
    "tm = TermManager()\n",
    "# Create a Bitwuzla options instance.\n",
    "options = Options()\n",
    "# Then, enable model generation.\n",
    "options.set(Option.PRODUCE_MODELS, True)\n",
    "# Create a Bitwuzla instance. \n",
    "bitwuzla = Bitwuzla(tm, options)"
   ]
  },
  {
   "cell_type": "code",
   "execution_count": 3,
   "metadata": {},
   "outputs": [],
   "source": [
    "bits = 3\n",
    "bit_with = 2**bits\n",
    "gate_number = 7\n",
    "# XOR, AND, OR\n",
    "gts = [0b0110, 0b001, 0b0111]\n",
    "# this is the sbox, it is temp used, after need generate by the true sbox\n",
    "xs = [0x0F, 0x33, 0x55]\n",
    "ys = [0x4B, 0x39, 0x65]\n",
    "\n",
    "sortbv = tm.mk_bv_sort(bit_with)"
   ]
  },
  {
   "cell_type": "code",
   "execution_count": 4,
   "metadata": {},
   "outputs": [],
   "source": [
    "# create the input and output variables\n",
    "xs_v = [tm.mk_const(sortbv, \"x{}\".format(i)) for i in range(bits)]\n",
    "ys_v = [tm.mk_const(sortbv, \"y{}\".format(i)) for i in range(bits)]\n",
    "\n",
    "# create the constraints\n",
    "for i in range(bits):\n",
    "    bitwuzla.assert_formula(\n",
    "        tm.mk_term(Kind.EQUAL, [xs_v[i], tm.mk_bv_value(sortbv, xs[i])])\n",
    "    )\n",
    "for i in range(bits):\n",
    "    bitwuzla.assert_formula(\n",
    "        tm.mk_term(Kind.EQUAL, [ys_v[i], tm.mk_bv_value(sortbv, ys[i])])\n",
    "    )"
   ]
  },
  {
   "cell_type": "code",
   "execution_count": 5,
   "metadata": {},
   "outputs": [],
   "source": [
    "# create the gate input and output\n",
    "ts_v = [tm.mk_const(sortbv, \"t{}\".format(i)) for i in range(gate_number)]\n",
    "qs_v = [tm.mk_const(sortbv, \"q{}\".format(i)) for i in range(gate_number * 2)]\n",
    "# create the constraints for the input\n",
    "for i in range(gate_number):\n",
    "    input0 = [tm.mk_term(Kind.EQUAL, [qs_v[2*i], xs_v[j]]) for j in range(bits)]\n",
    "    input1 = [tm.mk_term(Kind.EQUAL, [qs_v[2*i + 1], xs_v[j]]) for j in range(bits)]\n",
    "    inter0 = [tm.mk_term(Kind.EQUAL, [qs_v[2*i], ts_v[j]]) for j in range(i)]\n",
    "    inter1 = [tm.mk_term(Kind.EQUAL, [qs_v[2*i + 1], ts_v[j]]) for j in range(i)]\n",
    "    bitwuzla.assert_formula(tm.mk_term(Kind.OR, input0 + inter0))\n",
    "    bitwuzla.assert_formula(tm.mk_term(Kind.OR, input1 + inter1))"
   ]
  },
  {
   "cell_type": "code",
   "execution_count": 6,
   "metadata": {},
   "outputs": [],
   "source": [
    "# need encoding for gate type\n",
    "gts_v = [tm.mk_const(sortbv, \"gt{}\".format(i)) for i in range(gate_number)]\n",
    "\n",
    "# create the constraints for the gate type\n",
    "for i in range(gate_number):\n",
    "    types = [tm.mk_term(Kind.EQUAL, [gts_v[i], tm.mk_bv_value(sortbv, gts[j])]) for j in range(len(gts))]\n",
    "    bitwuzla.assert_formula(\n",
    "        tm.mk_term(Kind.OR, types)\n",
    "    )"
   ]
  },
  {
   "cell_type": "code",
   "execution_count": 7,
   "metadata": {},
   "outputs": [],
   "source": [
    "# create the constraints for the output, it is the hard part.\n",
    "one_sort = tm.mk_bv_sort(1)\n",
    "one = tm.mk_bv_value(one_sort, 1)\n",
    "zores = tm.mk_bv_value(sortbv, 0)\n",
    "ones = tm.mk_bv_value(sortbv, 2**bit_with - 1)\n",
    "for i in range(gate_number):\n",
    "    # create the constraints for the output\n",
    "    gt0 = tm.mk_term(Kind.BV_EXTRACT, [gts_v[i]], [0, 0])\n",
    "    gt1 = tm.mk_term(Kind.BV_EXTRACT, [gts_v[i]], [1, 1])\n",
    "    gt2 = tm.mk_term(Kind.BV_EXTRACT, [gts_v[i]], [2, 2])\n",
    "    gt3 = tm.mk_term(Kind.BV_EXTRACT, [gts_v[i]], [3, 3])\n",
    "    gt0_ul = tm.mk_term(\n",
    "        Kind.ITE,\n",
    "        [\n",
    "            tm.mk_term(Kind.BV_ULT, [gt0, one]),\n",
    "            zores,\n",
    "            tm.mk_term(Kind.BV_AND, [qs_v[2 * i], qs_v[2 * i + 1]]),\n",
    "        ],\n",
    "    )\n",
    "    gt1_ul = tm.mk_term(\n",
    "        Kind.ITE,\n",
    "        [\n",
    "            tm.mk_term(Kind.BV_ULT, [gt1, one]),\n",
    "            zores,\n",
    "            qs_v[2 * i + 1],\n",
    "        ],\n",
    "    )\n",
    "    gt2_ul = tm.mk_term(\n",
    "        Kind.ITE,\n",
    "        [\n",
    "            tm.mk_term(Kind.BV_ULT, [gt2, one]),\n",
    "            zores,\n",
    "            qs_v[2 * i],\n",
    "        ],\n",
    "    )\n",
    "    gt3_ul = tm.mk_term(\n",
    "        Kind.ITE,\n",
    "        [\n",
    "            tm.mk_term(Kind.BV_ULT, [gt3, one]),\n",
    "            zores,\n",
    "            ones,\n",
    "        ],\n",
    "    )\n",
    "    bitwuzla.assert_formula(\n",
    "        tm.mk_term(\n",
    "            Kind.EQUAL,\n",
    "            [\n",
    "                ts_v[i],\n",
    "                tm.mk_term(\n",
    "                    Kind.BV_XOR,\n",
    "                    [\n",
    "                        gt0_ul,\n",
    "                        tm.mk_term(\n",
    "                            Kind.BV_XOR,\n",
    "                            [gt1_ul, tm.mk_term(Kind.BV_XOR, [gt2_ul, gt3_ul])],\n",
    "                        ),\n",
    "                    ],\n",
    "                ),\n",
    "            ],\n",
    "        )\n",
    "    )"
   ]
  },
  {
   "cell_type": "code",
   "execution_count": 8,
   "metadata": {},
   "outputs": [],
   "source": [
    "# create the constraints for the sbox output link the gate output\n",
    "for i in range(bits):\n",
    "    ts_temp = [tm.mk_term(Kind.EQUAL, [ys_v[i], ts_v[j]]) for j in range(gate_number)]\n",
    "    bitwuzla.assert_formula(tm.mk_term(Kind.OR, ts_temp))"
   ]
  },
  {
   "cell_type": "code",
   "execution_count": 9,
   "metadata": {},
   "outputs": [
    {
     "name": "stdout",
     "output_type": "stream",
     "text": [
      "Assertions:\n",
      "{\n",
      " (= x0 #b00001111)\n",
      " (= x1 #b00110011)\n",
      " (= x2 #b01010101)\n",
      " (= y0 #b01001011)\n",
      " (= y1 #b00111001)\n",
      " (= y2 #b01100101)\n",
      " (or (or (= q0 x0) (= q0 x1)) (= q0 x2))\n",
      " (or (or (= q1 x0) (= q1 x1)) (= q1 x2))\n",
      " (or (or (or (= q2 x0) (= q2 x1)) (= q2 x2)) (= q2 t0))\n",
      " (or (or (or (= q3 x0) (= q3 x1)) (= q3 x2)) (= q3 t0))\n",
      " (or (or (or (or (= q4 x0) (= q4 x1)) (= q4 x2)) (= q4 t0)) (= q4 t1))\n",
      " (or (or (or (or (= q5 x0) (= q5 x1)) (= q5 x2)) (= q5 t0)) (= q5 t1))\n",
      " (or (or (or (or (or (= q6 x0) (= q6 x1)) (= q6 x2)) (= q6 t0)) (= q6 t1)) (= q6 t2))\n",
      " (or (or (or (or (or (= q7 x0) (= q7 x1)) (= q7 x2)) (= q7 t0)) (= q7 t1)) (= q7 t2))\n",
      " (or (or (or (or (or (or (= q8 x0) (= q8 x1)) (= q8 x2)) (= q8 t0)) (= q8 t1)) (= q8 t2)) (= q8 t3))\n",
      " (or (or (or (or (or (or (= q9 x0) (= q9 x1)) (= q9 x2)) (= q9 t0)) (= q9 t1)) (= q9 t2)) (= q9 t3))\n",
      " (or (or (or (or (or (or (or (= q10 x0) (= q10 x1)) (= q10 x2)) (= q10 t0)) (= q10 t1)) (= q10 t2)) (= q10 t3)) (= q10 t4))\n",
      " (or (or (or (or (or (or (or (= q11 x0) (= q11 x1)) (= q11 x2)) (= q11 t0)) (= q11 t1)) (= q11 t2)) (= q11 t3)) (= q11 t4))\n",
      " (or (or (or (or (or (or (or (or (= q12 x0) (= q12 x1)) (= q12 x2)) (= q12 t0)) (= q12 t1)) (= q12 t2)) (= q12 t3)) (= q12 t4)) (= q12 t5))\n",
      " (or (or (or (or (or (or (or (or (= q13 x0) (= q13 x1)) (= q13 x2)) (= q13 t0)) (= q13 t1)) (= q13 t2)) (= q13 t3)) (= q13 t4)) (= q13 t5))\n",
      " (or (or (= gt0 #b00000110) (= gt0 #b00000001)) (= gt0 #b00000111))\n",
      " (or (or (= gt1 #b00000110) (= gt1 #b00000001)) (= gt1 #b00000111))\n",
      " (or (or (= gt2 #b00000110) (= gt2 #b00000001)) (= gt2 #b00000111))\n",
      " (or (or (= gt3 #b00000110) (= gt3 #b00000001)) (= gt3 #b00000111))\n",
      " (or (or (= gt4 #b00000110) (= gt4 #b00000001)) (= gt4 #b00000111))\n",
      " (or (or (= gt5 #b00000110) (= gt5 #b00000001)) (= gt5 #b00000111))\n",
      " (or (or (= gt6 #b00000110) (= gt6 #b00000001)) (= gt6 #b00000111))\n",
      " (= t0 (bvxor (ite (bvult ((_ extract 0 0) gt0) #b1) #b00000000 (bvand q0 q1)) (bvxor (ite (bvult ((_ extract 1 1) gt0) #b1) #b00000000 q1) (bvxor (ite (bvult ((_ extract 2 2) gt0) #b1) #b00000000 q0) (ite (bvult ((_ extract 3 3) gt0) #b1) #b00000000 #b11111111)))))\n",
      " (= t1 (bvxor (ite (bvult ((_ extract 0 0) gt1) #b1) #b00000000 (bvand q2 q3)) (bvxor (ite (bvult ((_ extract 1 1) gt1) #b1) #b00000000 q3) (bvxor (ite (bvult ((_ extract 2 2) gt1) #b1) #b00000000 q2) (ite (bvult ((_ extract 3 3) gt1) #b1) #b00000000 #b11111111)))))\n",
      " (= t2 (bvxor (ite (bvult ((_ extract 0 0) gt2) #b1) #b00000000 (bvand q4 q5)) (bvxor (ite (bvult ((_ extract 1 1) gt2) #b1) #b00000000 q5) (bvxor (ite (bvult ((_ extract 2 2) gt2) #b1) #b00000000 q4) (ite (bvult ((_ extract 3 3) gt2) #b1) #b00000000 #b11111111)))))\n",
      " (= t3 (bvxor (ite (bvult ((_ extract 0 0) gt3) #b1) #b00000000 (bvand q6 q7)) (bvxor (ite (bvult ((_ extract 1 1) gt3) #b1) #b00000000 q7) (bvxor (ite (bvult ((_ extract 2 2) gt3) #b1) #b00000000 q6) (ite (bvult ((_ extract 3 3) gt3) #b1) #b00000000 #b11111111)))))\n",
      " (= t4 (bvxor (ite (bvult ((_ extract 0 0) gt4) #b1) #b00000000 (bvand q8 q9)) (bvxor (ite (bvult ((_ extract 1 1) gt4) #b1) #b00000000 q9) (bvxor (ite (bvult ((_ extract 2 2) gt4) #b1) #b00000000 q8) (ite (bvult ((_ extract 3 3) gt4) #b1) #b00000000 #b11111111)))))\n",
      " (= t5 (bvxor (ite (bvult ((_ extract 0 0) gt5) #b1) #b00000000 (bvand q10 q11)) (bvxor (ite (bvult ((_ extract 1 1) gt5) #b1) #b00000000 q11) (bvxor (ite (bvult ((_ extract 2 2) gt5) #b1) #b00000000 q10) (ite (bvult ((_ extract 3 3) gt5) #b1) #b00000000 #b11111111)))))\n",
      " (= t6 (bvxor (ite (bvult ((_ extract 0 0) gt6) #b1) #b00000000 (bvand q12 q13)) (bvxor (ite (bvult ((_ extract 1 1) gt6) #b1) #b00000000 q13) (bvxor (ite (bvult ((_ extract 2 2) gt6) #b1) #b00000000 q12) (ite (bvult ((_ extract 3 3) gt6) #b1) #b00000000 #b11111111)))))\n",
      " (or (or (or (or (or (or (= y0 t0) (= y0 t1)) (= y0 t2)) (= y0 t3)) (= y0 t4)) (= y0 t5)) (= y0 t6))\n",
      " (or (or (or (or (or (or (= y1 t0) (= y1 t1)) (= y1 t2)) (= y1 t3)) (= y1 t4)) (= y1 t5)) (= y1 t6))\n",
      " (or (or (or (or (or (or (= y2 t0) (= y2 t1)) (= y2 t2)) (= y2 t3)) (= y2 t4)) (= y2 t5)) (= y2 t6))\n",
      "}\n"
     ]
    }
   ],
   "source": [
    "assertions = bitwuzla.get_assertions()\n",
    "print('Assertions:')\n",
    "print('{')\n",
    "for a in assertions:\n",
    "    print(f' {a}')\n",
    "print('}')"
   ]
  },
  {
   "cell_type": "code",
   "execution_count": 10,
   "metadata": {},
   "outputs": [],
   "source": [
    "result = bitwuzla.check_sat()"
   ]
  },
  {
   "cell_type": "code",
   "execution_count": 15,
   "metadata": {},
   "outputs": [
    {
     "name": "stdout",
     "output_type": "stream",
     "text": [
      "SAT\n",
      "x0 = 0xf\n",
      "x1 = 0x33\n",
      "x2 = 0x55\n",
      "q0 = 0x33\n",
      "q1 = 0xf\n",
      "q2 = 0x33\n",
      "q3 = 0x3c\n",
      "q4 = 0x55\n",
      "q5 = 0x33\n",
      "q6 = 0x30\n",
      "q7 = 0x55\n",
      "q8 = 0x3c\n",
      "q9 = 0x77\n",
      "q10 = 0xf\n",
      "q11 = 0x55\n",
      "q12 = 0x3c\n",
      "q13 = 0x5\n",
      "t0 = 0x3c\n",
      "t1 = 0x30\n",
      "t2 = 0x77\n",
      "t3 = 0x65\n",
      "t4 = 0x4b\n",
      "t5 = 0x5\n",
      "t6 = 0x39\n",
      "gt0 = 0x6\n",
      "gt1 = 0x1\n",
      "gt2 = 0x7\n",
      "gt3 = 0x6\n",
      "gt4 = 0x6\n",
      "gt5 = 0x1\n",
      "gt6 = 0x6\n",
      "y0 = 0x4b\n",
      "y1 = 0x39\n",
      "y2 = 0x65\n"
     ]
    }
   ],
   "source": [
    "if result == Result.SAT:\n",
    "    print(\"SAT\")\n",
    "    for x in xs_v:\n",
    "        print(f\"{x} = {hex(int(bitwuzla.get_value(x).value(2),2))}\")\n",
    "    for q in qs_v:\n",
    "        print(f\"{q} = {hex(int(bitwuzla.get_value(q).value(2),2))}\")\n",
    "    for t in ts_v:\n",
    "        print(f\"{t} = {hex(int(bitwuzla.get_value(t).value(2),2))}\")\n",
    "    for gt in gts_v:\n",
    "        print(f\"{gt} = {hex(int(bitwuzla.get_value(gt).value(2),2))}\")\n",
    "    for y in ys_v:\n",
    "        print(f\"{y} = {hex(int(bitwuzla.get_value(y).value(2),2))}\")"
   ]
  }
 ],
 "metadata": {
  "kernelspec": {
   "display_name": "stp",
   "language": "python",
   "name": "python3"
  },
  "language_info": {
   "codemirror_mode": {
    "name": "ipython",
    "version": 3
   },
   "file_extension": ".py",
   "mimetype": "text/x-python",
   "name": "python",
   "nbconvert_exporter": "python",
   "pygments_lexer": "ipython3",
   "version": "3.11.9"
  }
 },
 "nbformat": 4,
 "nbformat_minor": 2
}
